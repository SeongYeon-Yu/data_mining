{
 "cells": [
  {
   "cell_type": "code",
   "execution_count": 6,
   "metadata": {},
   "outputs": [
    {
     "name": "stdout",
     "output_type": "stream",
     "text": [
      "정확도 0.8074074074074075\n"
     ]
    }
   ],
   "source": [
    "#데이터마이닝 12주차\n",
    "#60181912 유성연\n",
    "\n",
    "from sklearn.datasets import load_digits\n",
    "from sklearn.model_selection import train_test_split\n",
    "from sklearn import tree\n",
    "from sklearn.metrics import accuracy_score\n",
    "\n",
    "digits = load_digits()\n",
    "X=digits.data\n",
    "y=digits.target\n",
    "Xtrain, Xtest, ytrain, ytest = train_test_split(X, y,test_size=0.3)\n",
    "model = tree.DecisionTreeClassifier()\n",
    "model.fit(Xtrain,ytrain)\n",
    "y_model = model.predict(Xtest)\n",
    "print(\"정확도\",accuracy_score(ytest, y_model))"
   ]
  },
  {
   "cell_type": "code",
   "execution_count": null,
   "metadata": {},
   "outputs": [],
   "source": []
  }
 ],
 "metadata": {
  "kernelspec": {
   "display_name": "Python 3",
   "language": "python",
   "name": "python3"
  },
  "language_info": {
   "codemirror_mode": {
    "name": "ipython",
    "version": 3
   },
   "file_extension": ".py",
   "mimetype": "text/x-python",
   "name": "python",
   "nbconvert_exporter": "python",
   "pygments_lexer": "ipython3",
   "version": "3.8.3"
  }
 },
 "nbformat": 4,
 "nbformat_minor": 4
}

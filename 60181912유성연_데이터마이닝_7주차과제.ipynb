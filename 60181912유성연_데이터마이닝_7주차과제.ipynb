{
 "cells": [
  {
   "cell_type": "code",
   "execution_count": 2,
   "metadata": {},
   "outputs": [],
   "source": [
    "import csv\n",
    "import pandas as pd\n",
    "import numpy as np\n",
    "import matplotlib.pyplot as plt"
   ]
  },
  {
   "cell_type": "code",
   "execution_count": 3,
   "metadata": {},
   "outputs": [],
   "source": [
    "df = pd.read_csv(\"nba.csv\")"
   ]
  },
  {
   "cell_type": "code",
   "execution_count": 4,
   "metadata": {},
   "outputs": [
    {
     "name": "stderr",
     "output_type": "stream",
     "text": [
      "C:\\Users\\lg\\anaconda3\\lib\\site-packages\\numpy\\lib\\histograms.py:839: RuntimeWarning: invalid value encountered in greater_equal\n",
      "  keep = (tmp_a >= first_edge)\n",
      "C:\\Users\\lg\\anaconda3\\lib\\site-packages\\numpy\\lib\\histograms.py:840: RuntimeWarning: invalid value encountered in less_equal\n",
      "  keep &= (tmp_a <= last_edge)\n"
     ]
    },
    {
     "data": {
      "image/png": "[encoded data removed]",
      "text/plain": [
       "<Figure size 432x288 with 1 Axes>"
      ]
     },
     "metadata": {
      "needs_background": "light"
     },
     "output_type": "display_data"
    }
   ],
   "source": [
    "#나이 Series로 히스토그램\n",
    "plt.hist(df['Age'])\n",
    "plt.xlabel('age')\n",
    "plt.ylabel('count')\n",
    "plt.show()"
   ]
  },
  {
   "cell_type": "code",
   "execution_count": 5,
   "metadata": {},
   "outputs": [
    {
     "name": "stdout",
     "output_type": "stream",
     "text": [
      "Name : Kobe Bryant\n",
      "Team : Los Angeles Lakers\n",
      "Position : SF\n",
      "Age : 37.0\n",
      "Salary : 25000000.0\n"
     ]
    }
   ],
   "source": [
    "#연봉이 가장 높은 사람의 정보 출력\n",
    "max = df['Salary'].argmax()\n",
    "print(df.columns[0],\":\",df[\"Name\"].loc[max])\n",
    "print(df.columns[1],\":\",df[\"Team\"].loc[max])\n",
    "print(df.columns[3],\":\",df[\"Position\"].loc[max])\n",
    "print(df.columns[4],\":\",df[\"Age\"].loc[max])\n",
    "print(df.columns[8],\":\",df[\"Salary\"].loc[max])"
   ]
  },
  {
   "cell_type": "code",
   "execution_count": 6,
   "metadata": {
    "scrolled": false
   },
   "outputs": [
    {
     "data": {
      "image/png": "[encoded data removed]",
      "text/plain": [
       "<Figure size 432x288 with 1 Axes>"
      ]
     },
     "metadata": {
      "needs_background": "light"
     },
     "output_type": "display_data"
    },
    {
     "data": {
      "text/html": [
       "<div>\n",
       "<style scoped>\n",
       "    .dataframe tbody tr th:only-of-type {\n",
       "        vertical-align: middle;\n",
       "    }\n",
       "\n",
       "    .dataframe tbody tr th {\n",
       "        vertical-align: top;\n",
       "    }\n",
       "\n",
       "    .dataframe thead th {\n",
       "        text-align: right;\n",
       "    }\n",
       "</style>\n",
       "<table border=\"1\" class=\"dataframe\">\n",
       "  <thead>\n",
       "    <tr style=\"text-align: right;\">\n",
       "      <th></th>\n",
       "      <th>Salary</th>\n",
       "    </tr>\n",
       "  </thead>\n",
       "  <tbody>\n",
       "    <tr>\n",
       "      <th>0</th>\n",
       "      <td>4.860197e+06</td>\n",
       "    </tr>\n",
       "    <tr>\n",
       "      <th>1</th>\n",
       "      <td>4.181505e+06</td>\n",
       "    </tr>\n",
       "    <tr>\n",
       "      <th>2</th>\n",
       "      <td>3.501898e+06</td>\n",
       "    </tr>\n",
       "    <tr>\n",
       "      <th>3</th>\n",
       "      <td>5.222728e+06</td>\n",
       "    </tr>\n",
       "    <tr>\n",
       "      <th>4</th>\n",
       "      <td>5.785559e+06</td>\n",
       "    </tr>\n",
       "    <tr>\n",
       "      <th>5</th>\n",
       "      <td>7.642049e+06</td>\n",
       "    </tr>\n",
       "    <tr>\n",
       "      <th>6</th>\n",
       "      <td>4.746582e+06</td>\n",
       "    </tr>\n",
       "    <tr>\n",
       "      <th>7</th>\n",
       "      <td>4.294424e+06</td>\n",
       "    </tr>\n",
       "    <tr>\n",
       "      <th>8</th>\n",
       "      <td>4.477884e+06</td>\n",
       "    </tr>\n",
       "    <tr>\n",
       "      <th>9</th>\n",
       "      <td>5.924600e+06</td>\n",
       "    </tr>\n",
       "    <tr>\n",
       "      <th>10</th>\n",
       "      <td>5.018868e+06</td>\n",
       "    </tr>\n",
       "    <tr>\n",
       "      <th>11</th>\n",
       "      <td>4.450122e+06</td>\n",
       "    </tr>\n",
       "    <tr>\n",
       "      <th>12</th>\n",
       "      <td>6.323643e+06</td>\n",
       "    </tr>\n",
       "    <tr>\n",
       "      <th>13</th>\n",
       "      <td>4.784695e+06</td>\n",
       "    </tr>\n",
       "    <tr>\n",
       "      <th>14</th>\n",
       "      <td>5.467920e+06</td>\n",
       "    </tr>\n",
       "    <tr>\n",
       "      <th>15</th>\n",
       "      <td>6.347359e+06</td>\n",
       "    </tr>\n",
       "    <tr>\n",
       "      <th>16</th>\n",
       "      <td>4.350220e+06</td>\n",
       "    </tr>\n",
       "    <tr>\n",
       "      <th>17</th>\n",
       "      <td>4.593054e+06</td>\n",
       "    </tr>\n",
       "    <tr>\n",
       "      <th>18</th>\n",
       "      <td>4.355304e+06</td>\n",
       "    </tr>\n",
       "    <tr>\n",
       "      <th>19</th>\n",
       "      <td>4.581494e+06</td>\n",
       "    </tr>\n",
       "    <tr>\n",
       "      <th>20</th>\n",
       "      <td>6.251020e+06</td>\n",
       "    </tr>\n",
       "    <tr>\n",
       "      <th>21</th>\n",
       "      <td>4.297248e+06</td>\n",
       "    </tr>\n",
       "    <tr>\n",
       "      <th>22</th>\n",
       "      <td>2.213778e+06</td>\n",
       "    </tr>\n",
       "    <tr>\n",
       "      <th>23</th>\n",
       "      <td>4.229676e+06</td>\n",
       "    </tr>\n",
       "    <tr>\n",
       "      <th>24</th>\n",
       "      <td>3.220121e+06</td>\n",
       "    </tr>\n",
       "    <tr>\n",
       "      <th>25</th>\n",
       "      <td>4.778911e+06</td>\n",
       "    </tr>\n",
       "    <tr>\n",
       "      <th>26</th>\n",
       "      <td>5.629516e+06</td>\n",
       "    </tr>\n",
       "    <tr>\n",
       "      <th>27</th>\n",
       "      <td>4.741174e+06</td>\n",
       "    </tr>\n",
       "    <tr>\n",
       "      <th>28</th>\n",
       "      <td>4.204006e+06</td>\n",
       "    </tr>\n",
       "    <tr>\n",
       "      <th>29</th>\n",
       "      <td>5.088576e+06</td>\n",
       "    </tr>\n",
       "  </tbody>\n",
       "</table>\n",
       "</div>"
      ],
      "text/plain": [
       "          Salary\n",
       "0   4.860197e+06\n",
       "1   4.181505e+06\n",
       "2   3.501898e+06\n",
       "3   5.222728e+06\n",
       "4   5.785559e+06\n",
       "5   7.642049e+06\n",
       "6   4.746582e+06\n",
       "7   4.294424e+06\n",
       "8   4.477884e+06\n",
       "9   5.924600e+06\n",
       "10  5.018868e+06\n",
       "11  4.450122e+06\n",
       "12  6.323643e+06\n",
       "13  4.784695e+06\n",
       "14  5.467920e+06\n",
       "15  6.347359e+06\n",
       "16  4.350220e+06\n",
       "17  4.593054e+06\n",
       "18  4.355304e+06\n",
       "19  4.581494e+06\n",
       "20  6.251020e+06\n",
       "21  4.297248e+06\n",
       "22  2.213778e+06\n",
       "23  4.229676e+06\n",
       "24  3.220121e+06\n",
       "25  4.778911e+06\n",
       "26  5.629516e+06\n",
       "27  4.741174e+06\n",
       "28  4.204006e+06\n",
       "29  5.088576e+06"
      ]
     },
     "execution_count": 6,
     "metadata": {},
     "output_type": "execute_result"
    }
   ],
   "source": [
    "#팀별로 평균연봉을 바 형태로 \n",
    "avgsal=df.groupby('Team')[['Salary']].mean()\n",
    "plt.xlabel('Team')\n",
    "plt.ylabel('Salary')\n",
    "avgsal.index=np.arange(len(avgsal))\n",
    "plt.bar(avgsal.index,avgsal['Salary'])\n",
    "plt.show()\n",
    "avgsal"
   ]
  },
  {
   "cell_type": "code",
   "execution_count": 14,
   "metadata": {},
   "outputs": [
    {
     "data": {
      "text/plain": [
       "Kentucky          22\n",
       "Duke              20\n",
       "Kansas            18\n",
       "North Carolina    16\n",
       "UCLA              15\n",
       "                  ..\n",
       "Old Dominion       1\n",
       "Georgia State      1\n",
       "Bucknell           1\n",
       "Georgia            1\n",
       "Penn State         1\n",
       "Name: College, Length: 118, dtype: int64"
      ]
     },
     "execution_count": 14,
     "metadata": {},
     "output_type": "execute_result"
    }
   ],
   "source": [
    "#선수들의 출신 학교별로 인원수\n",
    "dfs=df['College'].value_counts()\n",
    "dfs"
   ]
  },
  {
   "cell_type": "code",
   "execution_count": 15,
   "metadata": {},
   "outputs": [
    {
     "name": "stdout",
     "output_type": "stream",
     "text": [
      "Avg Age: 26.938730853391686\n",
      "Avg Salary: 4842684.105381166\n"
     ]
    }
   ],
   "source": [
    "#선수들의 평균 연봉과 나이 출력\n",
    "print(\"Avg Age:\",df.Age.mean())\n",
    "print(\"Avg Salary:\",df.Salary.mean())"
   ]
  },
  {
   "cell_type": "code",
   "execution_count": 16,
   "metadata": {
    "scrolled": false
   },
   "outputs": [
    {
     "name": "stdout",
     "output_type": "stream",
     "text": [
      "C\n",
      "7         Kelly Olynyk\n",
      "10     Jared Sullinger\n",
      "14        Tyler Zeller\n",
      "23         Brook Lopez\n",
      "27          Henry Sims\n",
      "            ...       \n",
      "434        Chris Kaman\n",
      "439      Mason Plumlee\n",
      "447        Rudy Gobert\n",
      "455       Tibor Pleiss\n",
      "456        Jeff Withey\n",
      "Name: Name, Length: 78, dtype: object\n",
      "\n",
      "PF\n",
      "4         Jonas Jerebko\n",
      "5          Amir Johnson\n",
      "6         Jordan Mickey\n",
      "24     Chris McCullough\n",
      "25          Willie Reed\n",
      "             ...       \n",
      "435      Meyers Leonard\n",
      "441         Noah Vonleh\n",
      "442       Trevor Booker\n",
      "446      Derrick Favors\n",
      "452          Trey Lyles\n",
      "Name: Name, Length: 100, dtype: object\n",
      "\n",
      "PG\n",
      "0      Avery Bradley\n",
      "8       Terry Rozier\n",
      "9       Marcus Smart\n",
      "11     Isaiah Thomas\n",
      "19      Jarrett Jack\n",
      "           ...      \n",
      "440    Brian Roberts\n",
      "443       Trey Burke\n",
      "445       Dante Exum\n",
      "453     Shelvin Mack\n",
      "454        Raul Neto\n",
      "Name: Name, Length: 92, dtype: object\n",
      "\n",
      "SF\n",
      "1                 Jae Crowder\n",
      "32     Thanasis Antetokounmpo\n",
      "33            Carmelo Anthony\n",
      "35           Cleanthony Early\n",
      "42               Lance Thomas\n",
      "                ...          \n",
      "428           Al-Farouq Aminu\n",
      "432          Maurice Harkless\n",
      "448            Gordon Hayward\n",
      "450                Joe Ingles\n",
      "451             Chris Johnson\n",
      "Name: Name, Length: 85, dtype: object\n",
      "\n",
      "SG\n",
      "2          John Holland\n",
      "3           R.J. Hunter\n",
      "12          Evan Turner\n",
      "13          James Young\n",
      "15     Bojan Bogdanovic\n",
      "             ...       \n",
      "433    Gerald Henderson\n",
      "437       C.J. McCollum\n",
      "438        Luis Montero\n",
      "444          Alec Burks\n",
      "449         Rodney Hood\n",
      "Name: Name, Length: 102, dtype: object\n",
      "\n"
     ]
    }
   ],
   "source": [
    "#포지션별로 이름 출력\n",
    "a = df[\"Name\"].groupby(df['Position'])\n",
    "for data,index in a:\n",
    "    print(data)\n",
    "    print(index)\n",
    "    print()"
   ]
  },
  {
   "cell_type": "code",
   "execution_count": null,
   "metadata": {},
   "outputs": [],
   "source": []
  }
 ],
 "metadata": {
  "kernelspec": {
   "display_name": "Python 3",
   "language": "python",
   "name": "python3"
  },
  "language_info": {
   "codemirror_mode": {
    "name": "ipython",
    "version": 3
   },
   "file_extension": ".py",
   "mimetype": "text/x-python",
   "name": "python",
   "nbconvert_exporter": "python",
   "pygments_lexer": "ipython3",
   "version": "3.8.3"
  }
 },
 "nbformat": 4,
 "nbformat_minor": 4
}

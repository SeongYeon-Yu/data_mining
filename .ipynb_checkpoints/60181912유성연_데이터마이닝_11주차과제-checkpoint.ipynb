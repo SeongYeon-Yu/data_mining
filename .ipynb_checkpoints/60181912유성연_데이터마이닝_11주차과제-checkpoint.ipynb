{
 "cells": [
  {
   "cell_type": "code",
   "execution_count": 50,
   "metadata": {},
   "outputs": [],
   "source": [
    "import numpy as np\n",
    "import matplotlib.pyplot as plt\n",
    "import folium\n",
    "import pandas as pd\n",
    "from matplotlib import font_manager,rc\n",
    "font_name=font_manager.FontProperties(fname=\"c:/Windows/Fonts/malgun.ttf\").get_name()\n",
    "rc('font', family=font_name)"
   ]
  },
  {
   "cell_type": "code",
   "execution_count": 51,
   "metadata": {},
   "outputs": [],
   "source": [
    "map_osm = folium.Map(location=[37.566651, 126.978428], zoom_start=12)"
   ]
  },
  {
   "cell_type": "code",
   "execution_count": 52,
   "metadata": {},
   "outputs": [
    {
     "data": {
      "text/html": [
       "<div>\n",
       "<style scoped>\n",
       "    .dataframe tbody tr th:only-of-type {\n",
       "        vertical-align: middle;\n",
       "    }\n",
       "\n",
       "    .dataframe tbody tr th {\n",
       "        vertical-align: top;\n",
       "    }\n",
       "\n",
       "    .dataframe thead th {\n",
       "        text-align: right;\n",
       "    }\n",
       "</style>\n",
       "<table border=\"1\" class=\"dataframe\">\n",
       "  <thead>\n",
       "    <tr style=\"text-align: right;\">\n",
       "      <th></th>\n",
       "      <th>캠핑(야영)장명</th>\n",
       "      <th>캠핑(야영)장구분</th>\n",
       "      <th>위도</th>\n",
       "      <th>경도</th>\n",
       "      <th>주소</th>\n",
       "    </tr>\n",
       "  </thead>\n",
       "  <tbody>\n",
       "    <tr>\n",
       "      <th>0</th>\n",
       "      <td>최남단글램핑</td>\n",
       "      <td>자동차야영장</td>\n",
       "      <td>33.211782</td>\n",
       "      <td>126.255925</td>\n",
       "      <td>제주특별자치도 서귀포시 최남단해안로 113-0</td>\n",
       "    </tr>\n",
       "    <tr>\n",
       "      <th>1</th>\n",
       "      <td>서건도카라반</td>\n",
       "      <td>카라반</td>\n",
       "      <td>33.232536</td>\n",
       "      <td>126.500192</td>\n",
       "      <td>제주특별자치도 서귀포시 이어도로 826-51</td>\n",
       "    </tr>\n",
       "    <tr>\n",
       "      <th>2</th>\n",
       "      <td>돌고래 하우스 카라반</td>\n",
       "      <td>일반야영장</td>\n",
       "      <td>33.232731</td>\n",
       "      <td>126.499400</td>\n",
       "      <td>제주특별자치도 서귀포시 강정동 이어도로 826-58</td>\n",
       "    </tr>\n",
       "    <tr>\n",
       "      <th>3</th>\n",
       "      <td>햇살정원 제주캠핑&amp;민박</td>\n",
       "      <td>일반야영장</td>\n",
       "      <td>33.240415</td>\n",
       "      <td>126.608152</td>\n",
       "      <td>제주특별자치도 서귀포시 보목동 보목포로65번길 6</td>\n",
       "    </tr>\n",
       "    <tr>\n",
       "      <th>4</th>\n",
       "      <td>쇠소깍오토파크</td>\n",
       "      <td>일반야영장</td>\n",
       "      <td>33.249539</td>\n",
       "      <td>126.614506</td>\n",
       "      <td>제주특별자치도 서귀포시 하효동</td>\n",
       "    </tr>\n",
       "    <tr>\n",
       "      <th>...</th>\n",
       "      <td>...</td>\n",
       "      <td>...</td>\n",
       "      <td>...</td>\n",
       "      <td>...</td>\n",
       "      <td>...</td>\n",
       "    </tr>\n",
       "    <tr>\n",
       "      <th>2286</th>\n",
       "      <td>화진포 오토캠핑장</td>\n",
       "      <td>일반야영장</td>\n",
       "      <td>38.470144</td>\n",
       "      <td>128.420107</td>\n",
       "      <td>강원도 고성군 현내면 모정2길 2</td>\n",
       "    </tr>\n",
       "    <tr>\n",
       "      <th>2287</th>\n",
       "      <td>명파 해변 오토캠핑장</td>\n",
       "      <td>자동차야영장</td>\n",
       "      <td>38.543611</td>\n",
       "      <td>128.405619</td>\n",
       "      <td>강원 고성군 현내면 명파4길 47</td>\n",
       "    </tr>\n",
       "    <tr>\n",
       "      <th>2288</th>\n",
       "      <td>백운계곡캠핑장</td>\n",
       "      <td>일반야영장,글램핑</td>\n",
       "      <td>38.766079</td>\n",
       "      <td>127.379209</td>\n",
       "      <td>경기도 포천시 이동면 도평리 272-3</td>\n",
       "    </tr>\n",
       "    <tr>\n",
       "      <th>2289</th>\n",
       "      <td>계룡산글램핑파크 오브드림</td>\n",
       "      <td>일반야영장,글램핑</td>\n",
       "      <td>124.000000</td>\n",
       "      <td>3452.000000</td>\n",
       "      <td>충남 공주시 반포면 학봉리 335</td>\n",
       "    </tr>\n",
       "    <tr>\n",
       "      <th>2290</th>\n",
       "      <td>헬로 카라반</td>\n",
       "      <td>일반야영장</td>\n",
       "      <td>126.336232</td>\n",
       "      <td>37.653344</td>\n",
       "      <td>인천 강화군 삼산면 매음리 897번지</td>\n",
       "    </tr>\n",
       "  </tbody>\n",
       "</table>\n",
       "<p>2291 rows × 5 columns</p>\n",
       "</div>"
      ],
      "text/plain": [
       "           캠핑(야영)장명  캠핑(야영)장구분          위도           경도  \\\n",
       "0           최남단글램핑      자동차야영장   33.211782   126.255925   \n",
       "1            서건도카라반        카라반   33.232536   126.500192   \n",
       "2       돌고래 하우스 카라반      일반야영장   33.232731   126.499400   \n",
       "3      햇살정원 제주캠핑&민박      일반야영장   33.240415   126.608152   \n",
       "4           쇠소깍오토파크      일반야영장   33.249539   126.614506   \n",
       "...             ...        ...         ...          ...   \n",
       "2286     화진포 오토캠핑장       일반야영장   38.470144   128.420107   \n",
       "2287    명파 해변 오토캠핑장     자동차야영장   38.543611   128.405619   \n",
       "2288        백운계곡캠핑장  일반야영장,글램핑   38.766079   127.379209   \n",
       "2289  계룡산글램핑파크 오브드림  일반야영장,글램핑  124.000000  3452.000000   \n",
       "2290         헬로 카라반      일반야영장  126.336232    37.653344   \n",
       "\n",
       "                                 주소  \n",
       "0        제주특별자치도 서귀포시 최남단해안로 113-0   \n",
       "1         제주특별자치도 서귀포시 이어도로 826-51   \n",
       "2     제주특별자치도 서귀포시 강정동 이어도로 826-58   \n",
       "3      제주특별자치도 서귀포시 보목동 보목포로65번길 6   \n",
       "4                 제주특별자치도 서귀포시 하효동   \n",
       "...                             ...  \n",
       "2286            강원도 고성군 현내면 모정2길 2   \n",
       "2287             강원 고성군 현내면 명파4길 47  \n",
       "2288          경기도 포천시 이동면 도평리 272-3  \n",
       "2289             충남 공주시 반포면 학봉리 335  \n",
       "2290           인천 강화군 삼산면 매음리 897번지  \n",
       "\n",
       "[2291 rows x 5 columns]"
      ]
     },
     "execution_count": 52,
     "metadata": {},
     "output_type": "execute_result"
    }
   ],
   "source": [
    "df = pd.read_csv('camping_loc.csv', encoding='cp949' )\n",
    "df1= df.filter(['캠핑(야영)장명','캠핑(야영)장구분','위도','경도','주소'])\n",
    "df1"
   ]
  },
  {
   "cell_type": "code",
   "execution_count": 53,
   "metadata": {},
   "outputs": [],
   "source": [
    "for i in df1.index:\n",
    "# 행 우선 접근 방식으로 값 추출하기\n",
    "    name = df1.loc[i, '캠핑(야영)장명']\n",
    "    lat = df1.loc[i, '위도']\n",
    "    lng = df1.loc[i, '경도']\n",
    "\n",
    " # 추출한 정보를 지도에 표시\n",
    "    marker = folium.Marker([lat,lng], tooltip=name)\n",
    "    marker.add_to(map_osm)\n",
    "map_osm.save('전국야영장.html')"
   ]
  },
  {
   "cell_type": "code",
   "execution_count": 54,
   "metadata": {},
   "outputs": [],
   "source": [
    "전남 = df['주소'].str.contains(\"전라남도|전남\").sum()\n",
    "전북 = df['주소'].str.contains(\"전라북도|전북\").sum()\n",
    "경북 = df['주소'].str.contains(\"경상북도|경북\").sum()\n",
    "경남 = df['주소'].str.contains(\"경상남도|경남\").sum()\n",
    "충남 = df['주소'].str.contains(\"충청남도|충남\").sum()\n",
    "충북 = df['주소'].str.contains(\"충청북도|충북\").sum()\n",
    "강원 = df['주소'].str.contains(\"강원\").sum()\n",
    "\n",
    "대구 = df['주소'].str.contains(\"대구\").sum()\n",
    "울산 = df['주소'].str.contains(\"울산\").sum()\n",
    "인천 = df['주소'].str.contains(\"인천\").sum()\n",
    "경기 = df['주소'].str.contains(\"경기\").sum()\n",
    "서울 = df['주소'].str.contains(\"서울\").sum()\n",
    "제주 = df['주소'].str.contains(\"제주\").sum()\n",
    "광주 = df['주소'].str.contains(\"광주\").sum()\n",
    "#도만 표시하라고 하여, 광역시는 제외했습니다\n",
    "label = [전남,전북,경북,경남,충남,충북,강원,경기]\n",
    "#광역시포함시->광역시는 시라고 생각하여 뺐습니다\n",
    "#label = [전남,전북,경북,경남,충남,충북,강원,경기,대구,울산,인천서울,제주,광주] "
   ]
  },
  {
   "cell_type": "code",
   "execution_count": 55,
   "metadata": {},
   "outputs": [
    {
     "data": {
      "text/plain": [
       "([<matplotlib.axis.XTick at 0x17525d29d60>,\n",
       "  <matplotlib.axis.XTick at 0x17525d29d30>,\n",
       "  <matplotlib.axis.XTick at 0x17525d24a60>,\n",
       "  <matplotlib.axis.XTick at 0x17525d64c40>,\n",
       "  <matplotlib.axis.XTick at 0x17525d71190>,\n",
       "  <matplotlib.axis.XTick at 0x17525d716a0>,\n",
       "  <matplotlib.axis.XTick at 0x17525d71bb0>,\n",
       "  <matplotlib.axis.XTick at 0x17525d76100>],\n",
       " [Text(0, 0, '전남'),\n",
       "  Text(0, 0, '전북'),\n",
       "  Text(0, 0, '경북'),\n",
       "  Text(0, 0, '경남'),\n",
       "  Text(0, 0, '충남'),\n",
       "  Text(0, 0, '충북'),\n",
       "  Text(0, 0, '강원'),\n",
       "  Text(0, 0, '경기')])"
      ]
     },
     "execution_count": 55,
     "metadata": {},
     "output_type": "execute_result"
    },
    {
     "data": {
      "image/png": "[encoded data removed]",
      "text/plain": [
       "<Figure size 432x288 with 1 Axes>"
      ]
     },
     "metadata": {
      "needs_background": "light"
     },
     "output_type": "display_data"
    }
   ],
   "source": [
    "index = np.arange(len(label))\n",
    "plt.bar(index,label)\n",
    "plt.xticks(index,['전남','전북','경북','경남','충남','충북','강원','경기'])"
   ]
  }
 ],
 "metadata": {
  "kernelspec": {
   "display_name": "Python 3",
   "language": "python",
   "name": "python3"
  },
  "language_info": {
   "codemirror_mode": {
    "name": "ipython",
    "version": 3
   },
   "file_extension": ".py",
   "mimetype": "text/x-python",
   "name": "python",
   "nbconvert_exporter": "python",
   "pygments_lexer": "ipython3",
   "version": "3.8.3"
  }
 },
 "nbformat": 4,
 "nbformat_minor": 4
}

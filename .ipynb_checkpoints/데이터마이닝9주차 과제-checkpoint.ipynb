{
 "cells": [
  {
   "cell_type": "code",
   "execution_count": 1,
   "metadata": {},
   "outputs": [],
   "source": [
    "import pandas as pd\n",
    "import numpy as np\n",
    "import matplotlib.pyplot as plt\n",
    "import seaborn as sns"
   ]
  },
  {
   "cell_type": "code",
   "execution_count": 2,
   "metadata": {},
   "outputs": [],
   "source": [
    "df = pd.read_csv(\"nba.csv\")"
   ]
  },
  {
   "cell_type": "markdown",
   "metadata": {},
   "source": [
    "'New York Knicks' 와 'Phoenix Suns' 의 두 팀을 선택하였습니다."
   ]
  },
  {
   "cell_type": "code",
   "execution_count": 4,
   "metadata": {},
   "outputs": [
    {
     "data": {
      "text/html": [
       "<div>\n",
       "<style scoped>\n",
       "    .dataframe tbody tr th:only-of-type {\n",
       "        vertical-align: middle;\n",
       "    }\n",
       "\n",
       "    .dataframe tbody tr th {\n",
       "        vertical-align: top;\n",
       "    }\n",
       "\n",
       "    .dataframe thead th {\n",
       "        text-align: right;\n",
       "    }\n",
       "</style>\n",
       "<table border=\"1\" class=\"dataframe\">\n",
       "  <thead>\n",
       "    <tr style=\"text-align: right;\">\n",
       "      <th></th>\n",
       "      <th>Age</th>\n",
       "      <th>Salary</th>\n",
       "      <th>Team</th>\n",
       "      <th>Position</th>\n",
       "    </tr>\n",
       "  </thead>\n",
       "  <tbody>\n",
       "    <tr>\n",
       "      <th>30</th>\n",
       "      <td>30.0</td>\n",
       "      <td>8000000.0</td>\n",
       "      <td>New York Knicks</td>\n",
       "      <td>SG</td>\n",
       "    </tr>\n",
       "    <tr>\n",
       "      <th>31</th>\n",
       "      <td>33.0</td>\n",
       "      <td>1635476.0</td>\n",
       "      <td>New York Knicks</td>\n",
       "      <td>PF</td>\n",
       "    </tr>\n",
       "    <tr>\n",
       "      <th>32</th>\n",
       "      <td>23.0</td>\n",
       "      <td>30888.0</td>\n",
       "      <td>New York Knicks</td>\n",
       "      <td>SF</td>\n",
       "    </tr>\n",
       "    <tr>\n",
       "      <th>33</th>\n",
       "      <td>32.0</td>\n",
       "      <td>22875000.0</td>\n",
       "      <td>New York Knicks</td>\n",
       "      <td>SF</td>\n",
       "    </tr>\n",
       "    <tr>\n",
       "      <th>34</th>\n",
       "      <td>34.0</td>\n",
       "      <td>7402812.0</td>\n",
       "      <td>New York Knicks</td>\n",
       "      <td>PG</td>\n",
       "    </tr>\n",
       "    <tr>\n",
       "      <th>35</th>\n",
       "      <td>25.0</td>\n",
       "      <td>845059.0</td>\n",
       "      <td>New York Knicks</td>\n",
       "      <td>SF</td>\n",
       "    </tr>\n",
       "    <tr>\n",
       "      <th>36</th>\n",
       "      <td>24.0</td>\n",
       "      <td>845059.0</td>\n",
       "      <td>New York Knicks</td>\n",
       "      <td>SG</td>\n",
       "    </tr>\n",
       "    <tr>\n",
       "      <th>37</th>\n",
       "      <td>23.0</td>\n",
       "      <td>1572360.0</td>\n",
       "      <td>New York Knicks</td>\n",
       "      <td>PG</td>\n",
       "    </tr>\n",
       "    <tr>\n",
       "      <th>38</th>\n",
       "      <td>28.0</td>\n",
       "      <td>12650000.0</td>\n",
       "      <td>New York Knicks</td>\n",
       "      <td>C</td>\n",
       "    </tr>\n",
       "    <tr>\n",
       "      <th>39</th>\n",
       "      <td>26.0</td>\n",
       "      <td>3750000.0</td>\n",
       "      <td>New York Knicks</td>\n",
       "      <td>PF</td>\n",
       "    </tr>\n",
       "    <tr>\n",
       "      <th>40</th>\n",
       "      <td>20.0</td>\n",
       "      <td>4131720.0</td>\n",
       "      <td>New York Knicks</td>\n",
       "      <td>PF</td>\n",
       "    </tr>\n",
       "    <tr>\n",
       "      <th>41</th>\n",
       "      <td>26.0</td>\n",
       "      <td>2814000.0</td>\n",
       "      <td>New York Knicks</td>\n",
       "      <td>C</td>\n",
       "    </tr>\n",
       "    <tr>\n",
       "      <th>42</th>\n",
       "      <td>28.0</td>\n",
       "      <td>1636842.0</td>\n",
       "      <td>New York Knicks</td>\n",
       "      <td>SF</td>\n",
       "    </tr>\n",
       "    <tr>\n",
       "      <th>43</th>\n",
       "      <td>32.0</td>\n",
       "      <td>947276.0</td>\n",
       "      <td>New York Knicks</td>\n",
       "      <td>SG</td>\n",
       "    </tr>\n",
       "    <tr>\n",
       "      <th>44</th>\n",
       "      <td>25.0</td>\n",
       "      <td>4000000.0</td>\n",
       "      <td>New York Knicks</td>\n",
       "      <td>PF</td>\n",
       "    </tr>\n",
       "    <tr>\n",
       "      <th>45</th>\n",
       "      <td>23.0</td>\n",
       "      <td>167406.0</td>\n",
       "      <td>New York Knicks</td>\n",
       "      <td>SG</td>\n",
       "    </tr>\n",
       "    <tr>\n",
       "      <th>121</th>\n",
       "      <td>26.0</td>\n",
       "      <td>13500000.0</td>\n",
       "      <td>Phoenix Suns</td>\n",
       "      <td>PG</td>\n",
       "    </tr>\n",
       "    <tr>\n",
       "      <th>122</th>\n",
       "      <td>19.0</td>\n",
       "      <td>2127840.0</td>\n",
       "      <td>Phoenix Suns</td>\n",
       "      <td>SG</td>\n",
       "    </tr>\n",
       "    <tr>\n",
       "      <th>123</th>\n",
       "      <td>28.0</td>\n",
       "      <td>206192.0</td>\n",
       "      <td>Phoenix Suns</td>\n",
       "      <td>SF</td>\n",
       "    </tr>\n",
       "    <tr>\n",
       "      <th>124</th>\n",
       "      <td>33.0</td>\n",
       "      <td>13000000.0</td>\n",
       "      <td>Phoenix Suns</td>\n",
       "      <td>C</td>\n",
       "    </tr>\n",
       "    <tr>\n",
       "      <th>125</th>\n",
       "      <td>21.0</td>\n",
       "      <td>1160160.0</td>\n",
       "      <td>Phoenix Suns</td>\n",
       "      <td>SG</td>\n",
       "    </tr>\n",
       "    <tr>\n",
       "      <th>126</th>\n",
       "      <td>25.0</td>\n",
       "      <td>981348.0</td>\n",
       "      <td>Phoenix Suns</td>\n",
       "      <td>SG</td>\n",
       "    </tr>\n",
       "    <tr>\n",
       "      <th>127</th>\n",
       "      <td>24.0</td>\n",
       "      <td>13500000.0</td>\n",
       "      <td>Phoenix Suns</td>\n",
       "      <td>PG</td>\n",
       "    </tr>\n",
       "    <tr>\n",
       "      <th>128</th>\n",
       "      <td>22.0</td>\n",
       "      <td>3807120.0</td>\n",
       "      <td>Phoenix Suns</td>\n",
       "      <td>C</td>\n",
       "    </tr>\n",
       "    <tr>\n",
       "      <th>129</th>\n",
       "      <td>27.0</td>\n",
       "      <td>1035000.0</td>\n",
       "      <td>Phoenix Suns</td>\n",
       "      <td>PF</td>\n",
       "    </tr>\n",
       "    <tr>\n",
       "      <th>130</th>\n",
       "      <td>25.0</td>\n",
       "      <td>55722.0</td>\n",
       "      <td>Phoenix Suns</td>\n",
       "      <td>PG</td>\n",
       "    </tr>\n",
       "    <tr>\n",
       "      <th>131</th>\n",
       "      <td>32.0</td>\n",
       "      <td>947276.0</td>\n",
       "      <td>Phoenix Suns</td>\n",
       "      <td>PG</td>\n",
       "    </tr>\n",
       "    <tr>\n",
       "      <th>132</th>\n",
       "      <td>30.0</td>\n",
       "      <td>5500000.0</td>\n",
       "      <td>Phoenix Suns</td>\n",
       "      <td>PF</td>\n",
       "    </tr>\n",
       "    <tr>\n",
       "      <th>133</th>\n",
       "      <td>31.0</td>\n",
       "      <td>5500000.0</td>\n",
       "      <td>Phoenix Suns</td>\n",
       "      <td>SF</td>\n",
       "    </tr>\n",
       "    <tr>\n",
       "      <th>134</th>\n",
       "      <td>22.0</td>\n",
       "      <td>2041080.0</td>\n",
       "      <td>Phoenix Suns</td>\n",
       "      <td>SF</td>\n",
       "    </tr>\n",
       "    <tr>\n",
       "      <th>135</th>\n",
       "      <td>23.0</td>\n",
       "      <td>83397.0</td>\n",
       "      <td>Phoenix Suns</td>\n",
       "      <td>C</td>\n",
       "    </tr>\n",
       "  </tbody>\n",
       "</table>\n",
       "</div>"
      ],
      "text/plain": [
       "      Age      Salary             Team Position\n",
       "30   30.0   8000000.0  New York Knicks       SG\n",
       "31   33.0   1635476.0  New York Knicks       PF\n",
       "32   23.0     30888.0  New York Knicks       SF\n",
       "33   32.0  22875000.0  New York Knicks       SF\n",
       "34   34.0   7402812.0  New York Knicks       PG\n",
       "35   25.0    845059.0  New York Knicks       SF\n",
       "36   24.0    845059.0  New York Knicks       SG\n",
       "37   23.0   1572360.0  New York Knicks       PG\n",
       "38   28.0  12650000.0  New York Knicks        C\n",
       "39   26.0   3750000.0  New York Knicks       PF\n",
       "40   20.0   4131720.0  New York Knicks       PF\n",
       "41   26.0   2814000.0  New York Knicks        C\n",
       "42   28.0   1636842.0  New York Knicks       SF\n",
       "43   32.0    947276.0  New York Knicks       SG\n",
       "44   25.0   4000000.0  New York Knicks       PF\n",
       "45   23.0    167406.0  New York Knicks       SG\n",
       "121  26.0  13500000.0     Phoenix Suns       PG\n",
       "122  19.0   2127840.0     Phoenix Suns       SG\n",
       "123  28.0    206192.0     Phoenix Suns       SF\n",
       "124  33.0  13000000.0     Phoenix Suns        C\n",
       "125  21.0   1160160.0     Phoenix Suns       SG\n",
       "126  25.0    981348.0     Phoenix Suns       SG\n",
       "127  24.0  13500000.0     Phoenix Suns       PG\n",
       "128  22.0   3807120.0     Phoenix Suns        C\n",
       "129  27.0   1035000.0     Phoenix Suns       PF\n",
       "130  25.0     55722.0     Phoenix Suns       PG\n",
       "131  32.0    947276.0     Phoenix Suns       PG\n",
       "132  30.0   5500000.0     Phoenix Suns       PF\n",
       "133  31.0   5500000.0     Phoenix Suns       SF\n",
       "134  22.0   2041080.0     Phoenix Suns       SF\n",
       "135  23.0     83397.0     Phoenix Suns        C"
      ]
     },
     "execution_count": 4,
     "metadata": {},
     "output_type": "execute_result"
    }
   ],
   "source": [
    "a=df.loc[:,['Age','Salary','Team','Position']]\n",
    "#1 임의의 팀 선택\n",
    "aa = a[a['Team'].isin(['New York Knicks','Phoenix Suns'])]\n",
    "aa"
   ]
  },
  {
   "cell_type": "markdown",
   "metadata": {},
   "source": [
    "그림을 보면, 제일 위에있는 사람이 연봉이 제일 많이 받는데 이 사람의 나이는 그림으로 봐서 32살이라고 생각된다.\n",
    "길게 보이는 28살쪽의 초록색 박스를 봐서, 28살에는 SF팀이 많이 있을 것으로 그림을 분석할 수 있다."
   ]
  },
  {
   "cell_type": "code",
   "execution_count": 10,
   "metadata": {},
   "outputs": [
    {
     "data": {
      "text/plain": [
       "<matplotlib.axes._subplots.AxesSubplot at 0x23503436610>"
      ]
     },
     "execution_count": 10,
     "metadata": {},
     "output_type": "execute_result"
    },
    {
     "data": {
      "image/png": "[encoded data removed]",
      "text/plain": [
       "<Figure size 432x288 with 1 Axes>"
      ]
     },
     "metadata": {
      "needs_background": "light"
     },
     "output_type": "display_data"
    }
   ],
   "source": [
    "#나이별 연봉을 포지션 별로 구분하여 그림\n",
    "sns.boxplot(x=\"Age\",y='Salary',hue='Position',data=aa)"
   ]
  },
  {
   "cell_type": "markdown",
   "metadata": {},
   "source": [
    "위에 바형태로 정규분포를 보면, 25살 가까이 있는 나이가 제일 많은 것으로 분석되어진다.\n",
    "옆에 바형태로 정규분포를 보면, 연봉이 0.0에서 0.25사이에 받는 사람이 많은것으로 분석된다.\n",
    "나이가 많다고 연봉이 높은 것은 아닌것을 확인할 수 있다."
   ]
  },
  {
   "cell_type": "code",
   "execution_count": 6,
   "metadata": {},
   "outputs": [
    {
     "data": {
      "text/plain": [
       "<seaborn.axisgrid.JointGrid at 0x235030ef7f0>"
      ]
     },
     "execution_count": 6,
     "metadata": {},
     "output_type": "execute_result"
    },
    {
     "data": {
      "image/png": "[encoded data removed]",
      "text/plain": [
       "<Figure size 432x432 with 3 Axes>"
      ]
     },
     "metadata": {
      "needs_background": "light"
     },
     "output_type": "display_data"
    }
   ],
   "source": [
    "#나이별 연봉\n",
    "sns.jointplot(x=\"Age\",y=\"Salary\",data=aa,kind='reg')"
   ]
  },
  {
   "cell_type": "markdown",
   "metadata": {},
   "source": [
    "두 팀에는 19살부터 29살을 제외한 34살까지 존재하며, 같은 나이에 같은 포지션을 가진 사람은 28살SF포지션을 제외하고는 1명씩 존재하는 것을 볼 수 있다.\n",
    "오른쪽에 색깔별로 포지션이 무엇인지 볼 수 있다."
   ]
  },
  {
   "cell_type": "code",
   "execution_count": 11,
   "metadata": {},
   "outputs": [
    {
     "data": {
      "text/plain": [
       "<seaborn.axisgrid.FacetGrid at 0x23503471cd0>"
      ]
     },
     "execution_count": 11,
     "metadata": {},
     "output_type": "execute_result"
    },
    {
     "data": {
      "image/png": "[encoded data removed]",
      "text/plain": [
       "<Figure size 770x360 with 1 Axes>"
      ]
     },
     "metadata": {
      "needs_background": "light"
     },
     "output_type": "display_data"
    }
   ],
   "source": [
    "#나이별 포지션분포\n",
    "sns.catplot(x=\"Age\",data=aa,aspect=2,kind=\"count\",hue='Position')"
   ]
  },
  {
   "cell_type": "code",
   "execution_count": null,
   "metadata": {},
   "outputs": [],
   "source": []
  }
 ],
 "metadata": {
  "kernelspec": {
   "display_name": "Python 3",
   "language": "python",
   "name": "python3"
  }
 },
 "nbformat": 4,
 "nbformat_minor": 4
}

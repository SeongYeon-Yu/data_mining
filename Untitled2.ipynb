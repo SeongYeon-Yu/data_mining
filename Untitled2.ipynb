{
 "cells": [
  {
   "cell_type": "code",
   "execution_count": 10,
   "metadata": {},
   "outputs": [],
   "source": [
    "import folium\n",
    "map_osm = folium.Map(location=[37.566651, 126.978428], zoom_start=12)"
   ]
  },
  {
   "cell_type": "code",
   "execution_count": 11,
   "metadata": {},
   "outputs": [],
   "source": [
    "for i in df2.index:\n",
    " # 행 우선 접근 방식으로 값 추출하기\n",
    " name = df2.loc[i, '캠핑(야영)장명']\n",
    " lat = df2.loc[i, '위도']\n",
    " lng = df2.loc[i, '경도']\n",
    "\n",
    " # 추출한 정보를 지도에 표시\n",
    " marker = folium.Marker([lat,lng], popup=name)\n",
    " marker.add_to(map_osm)\n",
    "map_osm.save('전국야영장분포.html')"
   ]
  },
  {
   "cell_type": "code",
   "execution_count": 4,
   "metadata": {},
   "outputs": [],
   "source": [
    "map_osm = folium.Map(location=[37.566345, 126.977893])\n",
    "map_osm.save('ㅋㅋ.html')"
   ]
  },
  {
   "cell_type": "code",
   "execution_count": 5,
   "metadata": {},
   "outputs": [],
   "source": [
    "map_osm = folium.Map(location=[37.566345, 126.977893], zoom_start=17, tiles='Stamen Terrain')\n",
    "map_osm.save('ㅋㅋ.html')"
   ]
  },
  {
   "cell_type": "code",
   "execution_count": 8,
   "metadata": {},
   "outputs": [],
   "source": [
    "from folium.plugins import MiniMap\n",
    "\n",
    "# 지도 생성하기\n",
    "m = folium.Map(location=[37.5536067,126.9674308],   # 기준좌표: 서울역\n",
    "               zoom_start=12)\n",
    "# 마커 추가하기\n",
    "folium.Marker([37.5536067,126.9674308],    # 서울역위치\n",
    "              tooltip=\"서울역(마우스올리면보여짐)\",\n",
    "              popup=\"서울역(클릭하면 보여짐)\",\n",
    "              ).add_to(m)\n",
    "\n",
    "# 미니맵 추가하기\n",
    "minimap = MiniMap() \n",
    "m.add_child(minimap)\n",
    "\n",
    "# 마커 추가하기\n",
    "folium.Marker([37.5536067,126.9674308],    # 서울역위치\n",
    "              tooltip=\"서울역(마우스올리면보여짐)\",\n",
    "              popup=\"서울역(클릭하면 보여짐)\",\n",
    "              ).add_to(m)\n",
    "m.save('ll.html')"
   ]
  },
  {
   "cell_type": "code",
   "execution_count": 9,
   "metadata": {},
   "outputs": [
    {
     "name": "stdout",
     "output_type": "stream",
     "text": [
      "Requirement already satisfied: folium in c:\\users\\lg\\anaconda3\\lib\\site-packages (0.11.0)\n",
      "Requirement already satisfied: branca>=0.3.0 in c:\\users\\lg\\anaconda3\\lib\\site-packages (from folium) (0.4.1)\n",
      "Requirement already satisfied: numpy in c:\\users\\lg\\anaconda3\\lib\\site-packages (from folium) (1.18.5)\n",
      "Requirement already satisfied: requests in c:\\users\\lg\\anaconda3\\lib\\site-packages (from folium) (2.24.0)\n",
      "Requirement already satisfied: jinja2>=2.9 in c:\\users\\lg\\anaconda3\\lib\\site-packages (from folium) (2.11.2)\n",
      "Requirement already satisfied: urllib3!=1.25.0,!=1.25.1,<1.26,>=1.21.1 in c:\\users\\lg\\anaconda3\\lib\\site-packages (from requests->folium) (1.25.9)\n",
      "Requirement already satisfied: idna<3,>=2.5 in c:\\users\\lg\\anaconda3\\lib\\site-packages (from requests->folium) (2.10)\n",
      "Requirement already satisfied: chardet<4,>=3.0.2 in c:\\users\\lg\\anaconda3\\lib\\site-packages (from requests->folium) (3.0.4)\n",
      "Requirement already satisfied: certifi>=2017.4.17 in c:\\users\\lg\\anaconda3\\lib\\site-packages (from requests->folium) (2020.6.20)\n",
      "Requirement already satisfied: MarkupSafe>=0.23 in c:\\users\\lg\\anaconda3\\lib\\site-packages (from jinja2>=2.9->folium) (1.1.1)\n"
     ]
    }
   ],
   "source": [
    "!pip install folium"
   ]
  },
  {
   "cell_type": "code",
   "execution_count": null,
   "metadata": {},
   "outputs": [],
   "source": []
  }
 ],
 "metadata": {
  "kernelspec": {
   "display_name": "Python 3",
   "language": "python",
   "name": "python3"
  },
  "language_info": {
   "codemirror_mode": {
    "name": "ipython",
    "version": 3
   },
   "file_extension": ".py",
   "mimetype": "text/x-python",
   "name": "python",
   "nbconvert_exporter": "python",
   "pygments_lexer": "ipython3",
   "version": "3.8.3"
  }
 },
 "nbformat": 4,
 "nbformat_minor": 4
}
